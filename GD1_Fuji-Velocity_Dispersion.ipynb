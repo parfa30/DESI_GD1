{
 "cells": [
  {
   "cell_type": "markdown",
   "id": "d3a66c18",
   "metadata": {},
   "source": [
    "# GD1 Stream in Fuji Data - Velocity Dispersion"
   ]
  },
  {
   "cell_type": "code",
   "execution_count": 11,
   "id": "cf91c8d2-8df6-4be9-bab1-3c406dde5655",
   "metadata": {},
   "outputs": [
    {
     "name": "stdout",
     "output_type": "stream",
     "text": [
      "Populating the interactive namespace from numpy and matplotlib\n"
     ]
    }
   ],
   "source": [
    "%pylab inline\n",
    "import os\n",
    "import pandas as pd\n",
    "import numpy as np\n",
    "import matplotlib.pyplot as plt\n",
    "\n",
    "import astropy.units as u\n",
    "from astropy.table import Table\n",
    "from astropy.io import fits\n",
    "import scipy.interpolate\n",
    "from scipy.optimize import minimize\n",
    "from scipy.special import logsumexp\n",
    "\n",
    "import emcee\n",
    "import corner\n",
    "\n",
    "from IPython.display import display, Math"
   ]
  },
  {
   "cell_type": "code",
   "execution_count": 3,
   "id": "2672add3",
   "metadata": {},
   "outputs": [],
   "source": [
    "from astropy.coordinates import SkyCoord, ICRS, Galactocentric, galactocentric_frame_defaults\n",
    "GCPARAMS = galactocentric_frame_defaults.get_from_registry(\"v4.0\")['parameters']"
   ]
  },
  {
   "cell_type": "code",
   "execution_count": 4,
   "id": "0e465eec",
   "metadata": {},
   "outputs": [],
   "source": [
    "plt.rc('font', size=14, family='serif')"
   ]
  },
  {
   "cell_type": "code",
   "execution_count": 5,
   "id": "6034b5ab",
   "metadata": {},
   "outputs": [],
   "source": [
    "pd.options.mode.chained_assignment = None"
   ]
  },
  {
   "cell_type": "markdown",
   "id": "6030dbe8",
   "metadata": {},
   "source": [
    "# Radial Velocity Dispersion"
   ]
  },
  {
   "cell_type": "code",
   "execution_count": 9,
   "id": "0d3be8c8",
   "metadata": {},
   "outputs": [],
   "source": [
    "gd1_hdu = fits.open('fuji_gd1_members.fits')"
   ]
  },
  {
   "cell_type": "code",
   "execution_count": 12,
   "id": "9a05fdc5",
   "metadata": {},
   "outputs": [],
   "source": [
    "gd1 = Table(gd1_hdu[1].data)"
   ]
  },
  {
   "cell_type": "code",
   "execution_count": 15,
   "id": "f88dcfe9",
   "metadata": {},
   "outputs": [
    {
     "data": {
      "text/plain": [
       "<matplotlib.legend.Legend at 0x7fc3b2ea7780>"
      ]
     },
     "execution_count": 15,
     "metadata": {},
     "output_type": "execute_result"
    },
    {
     "data": {
      "image/png": "[encoded data removed]",
      "text/plain": [
       "<Figure size 1080x288 with 2 Axes>"
      ]
     },
     "metadata": {
      "needs_background": "light"
     },
     "output_type": "display_data"
    }
   ],
   "source": [
    "fig, (ax1, ax2) = plt.subplots(1,2, figsize=(15,4))\n",
    "bins = np.linspace(min(gd1['delta_vrad']), max(gd1['delta_vrad']),25)\n",
    "ax1.hist(gd1['delta_vrad'],bins=bins,alpha=0.5,label='{:.2f} ({:.2f})'.format(np.mean(gd1['delta_vrad']), np.std(gd1['delta_vrad'])))\n",
    "\n",
    "ax1.set_xlabel('$\\Delta v_{rad}$')\n",
    "ax1.legend()\n",
    "\n",
    "bins = np.linspace(min(gd1['vrad_err']), max(gd1['vrad_err']),25)\n",
    "ax2.hist(gd1['vrad_err'],bins=bins,alpha=0.5,label='{:.2f} ({:.2f})'.format(np.mean(gd1['vrad_err']), np.std(gd1['vrad_err'])))\n",
    "\n",
    "ax2.set_xlabel('$v_{rad}$ error')\n",
    "ax2.legend()"
   ]
  },
  {
   "cell_type": "markdown",
   "id": "ab78478c",
   "metadata": {},
   "source": [
    "### Log-likelihood MCMC model"
   ]
  },
  {
   "cell_type": "markdown",
   "id": "7429b7c8",
   "metadata": {},
   "source": [
    "Taking model from Malhan & Ibata 2019 (sec. 4.1):"
   ]
  },
  {
   "cell_type": "markdown",
   "id": "ce488ccc",
   "metadata": {},
   "source": [
    "$$ln \\mathcal{L} = \\Sigma_{data} [- 1/2 (\\frac{v_{los}^{m} - v_{los}^{d}}{\\sigma_{v_{los, obs}}})^{2} -ln(\\sigma_{v_{los, obs}}) ]$$"
   ]
  },
  {
   "cell_type": "markdown",
   "id": "0ada4356",
   "metadata": {},
   "source": [
    "where, $$\\sigma_{v_{los, obs}}^{2} = \\sigma_{v_{los, int}}^{2} + f_{d}^{2} $$"
   ]
  },
  {
   "cell_type": "markdown",
   "id": "20de2194",
   "metadata": {},
   "source": [
    "and $f$ is $v_{rad}$ error from the pipeline"
   ]
  },
  {
   "cell_type": "code",
   "execution_count": 28,
   "id": "55431537",
   "metadata": {},
   "outputs": [],
   "source": [
    "def log_like(p, vdiff, verr):\n",
    "    sig, f = p\n",
    "    sigma2 = (verr) ** 2 + sig**2\n",
    "    ln = - 0.5 * vdiff ** 2 / sigma2 - 0.5*np.log(2*np.pi) - np.log(np.sqrt(sigma2)) + np.log(f)\n",
    "    bg = np.full_like(vdiff, -np.log(max(gd1['delta_vrad'])-min(gd1['delta_vrad']))) + np.log(1-f)\n",
    "    args = [ln, bg]\n",
    "    ll = logsumexp(args, axis=0)\n",
    "    return ll, args"
   ]
  },
  {
   "cell_type": "code",
   "execution_count": 29,
   "id": "61de5def",
   "metadata": {},
   "outputs": [],
   "source": [
    "def log_prior(p):\n",
    "    sig, f = p\n",
    "    if (sig < 0) or (sig > 200):\n",
    "        return -np.inf\n",
    "    if (f > 1) or (f < 0):\n",
    "        return -np.inf\n",
    "    return 0"
   ]
  },
  {
   "cell_type": "code",
   "execution_count": 30,
   "id": "3c4a240a",
   "metadata": {},
   "outputs": [],
   "source": [
    "def logprob(p, vdiff, verr):\n",
    "    lp = log_prior(p)\n",
    "    if not np.isfinite(lp):\n",
    "        return -np.inf\n",
    "    \n",
    "    ll, args = log_like(p, vdiff, verr)\n",
    "\n",
    "    return lp + ll.sum()"
   ]
  },
  {
   "cell_type": "code",
   "execution_count": 31,
   "id": "d0946b9e",
   "metadata": {},
   "outputs": [],
   "source": [
    "def model(p, vdiff, verr, title):\n",
    "\n",
    "    vgrid = np.linspace(min(vdiff), max(vdiff), 100)\n",
    "    errgrid = np.ones(len(vgrid)) * 2.9\n",
    "    \n",
    "    ll, args = log_like(p, vgrid, errgrid)\n",
    "    pll = np.exp(ll)\n",
    "    \n",
    "    plt.hist(vdiff, density=True, color='grey')\n",
    "    plt.plot(vgrid, pll, label=title)"
   ]
  },
  {
   "cell_type": "code",
   "execution_count": 32,
   "id": "6287847a",
   "metadata": {},
   "outputs": [],
   "source": [
    "x = gd1['phi1']\n",
    "y = gd1['vrad']\n",
    "verr = gd1['vrad_err']\n",
    "vdiff = gd1['delta_vrad']\n",
    "\n",
    "ndim = 2\n",
    "nwalkers = 64\n",
    "p0_guess = [5, 0.9]\n",
    "p0 = p0_guess + 1e-4 * np.random.randn(64, 2)"
   ]
  },
  {
   "cell_type": "code",
   "execution_count": 33,
   "id": "f1f11d68",
   "metadata": {},
   "outputs": [
    {
     "name": "stderr",
     "output_type": "stream",
     "text": [
      "/Users/pfagrelius/miniconda3/lib/python3.7/site-packages/scipy/optimize/_numdiff.py:557: RuntimeWarning: invalid value encountered in subtract\n",
      "  df = fun(x) - f0\n"
     ]
    }
   ],
   "source": [
    "res = minimize(lambda *args: -logprob(*args), x0=p0_guess, \n",
    "                   args=(vdiff,verr, ), method='L-BFGS-B')"
   ]
  },
  {
   "cell_type": "code",
   "execution_count": 34,
   "id": "3b627d7d",
   "metadata": {},
   "outputs": [
    {
     "data": {
      "text/plain": [
       "<matplotlib.legend.Legend at 0x7fc3b4707278>"
      ]
     },
     "execution_count": 34,
     "metadata": {},
     "output_type": "execute_result"
    },
    {
     "data": {
      "image/png": "[encoded data removed]",
      "text/plain": [
       "<Figure size 432x288 with 1 Axes>"
      ]
     },
     "metadata": {
      "needs_background": "light"
     },
     "output_type": "display_data"
    }
   ],
   "source": [
    "model(p0_guess, vdiff, verr,'p0')\n",
    "model(res.x, vdiff, verr,'opt')\n",
    "plt.legend()"
   ]
  },
  {
   "cell_type": "code",
   "execution_count": 35,
   "id": "d59b7caf",
   "metadata": {},
   "outputs": [
    {
     "name": "stdout",
     "output_type": "stream",
     "text": [
      "2\n"
     ]
    }
   ],
   "source": [
    "nparams = len(p0_guess)\n",
    "print(nparams)\n",
    "nwalkers = 64\n",
    "p0_guess = res.x\n",
    "p0 = p0_guess + 1e-4 * np.random.randn(64, 2)\n",
    "## Check to see things are initialized ok\n",
    "lkhds = [logprob(p0[j], vdiff, verr) for j in range(nwalkers)]\n",
    "assert np.all(np.array(lkhds) > -9e9)"
   ]
  },
  {
   "cell_type": "markdown",
   "id": "3c845192",
   "metadata": {},
   "source": [
    "Following emcee tutorial: https://emcee.readthedocs.io/en/stable/tutorials/line/"
   ]
  },
  {
   "cell_type": "markdown",
   "id": "4ef1848b",
   "metadata": {},
   "source": [
    "Run for all stars, in stream, and out of stream stars"
   ]
  },
  {
   "cell_type": "code",
   "execution_count": 36,
   "id": "9ed78546",
   "metadata": {},
   "outputs": [],
   "source": [
    "labels = ['$\\sigma_{v_{rad}}$','f']\n",
    "def display_results(sampler, title):\n",
    "    flat_samples = sampler.get_chain(discard=100, thin=15, flat=True)\n",
    "    print('## {} ##'.format(title))\n",
    "    for i in range(len(p0_guess)):\n",
    "        mcmc = np.percentile(flat_samples[:, i], [16, 50, 84])\n",
    "        q = np.diff(mcmc)\n",
    "        txt = \"\\mathrm{{{3}}} = {0:.3f}_{{-{1:.3f}}}^{{{2:.3f}}}\"\n",
    "        txt = txt.format(mcmc[1], q[0], q[1], labels[i])\n",
    "        display(Math(txt))\n",
    "        \n",
    "    fig = corner.corner(flat_samples, labels=labels, quantiles=[0.16,0.50,0.84], show_titles=True)\n",
    "    #plt.hist(sig, bins=25, label=title, alpha=0.5)\n",
    "    #plt.xlabel(\"$\\sigma_{v_{rad}}$\")"
   ]
  },
  {
   "cell_type": "code",
   "execution_count": 37,
   "id": "bf9163c7",
   "metadata": {},
   "outputs": [
    {
     "name": "stdout",
     "output_type": "stream",
     "text": [
      "## GD1 ##\n"
     ]
    },
    {
     "data": {
      "text/latex": [
       "$\\displaystyle \\mathrm{$\\sigma_{v_{rad}}$} = 3.632_{-0.462}^{0.499}$"
      ],
      "text/plain": [
       "<IPython.core.display.Math object>"
      ]
     },
     "metadata": {},
     "output_type": "display_data"
    },
    {
     "data": {
      "text/latex": [
       "$\\displaystyle \\mathrm{f} = 0.911_{-0.043}^{0.034}$"
      ],
      "text/plain": [
       "<IPython.core.display.Math object>"
      ]
     },
     "metadata": {},
     "output_type": "display_data"
    },
    {
     "name": "stderr",
     "output_type": "stream",
     "text": [
      "No artists with labels found to put in legend.  Note that artists whose label start with an underscore are ignored when legend() is called with no argument.\n"
     ]
    },
    {
     "data": {
      "text/plain": [
       "<matplotlib.legend.Legend at 0x7fc3b4b0dc50>"
      ]
     },
     "execution_count": 37,
     "metadata": {},
     "output_type": "execute_result"
    },
    {
     "data": {
      "image/png": "[encoded data removed]",
      "text/plain": [
       "<Figure size 396x396 with 4 Axes>"
      ]
     },
     "metadata": {
      "needs_background": "light"
     },
     "output_type": "display_data"
    }
   ],
   "source": [
    "titles = ['GD1']\n",
    "\n",
    "sampler = emcee.EnsembleSampler(nwalkers, len(p0_guess), logprob, args=(vdiff,verr))\n",
    "\n",
    "state = sampler.run_mcmc(p0, 2048)\n",
    "sampler.reset()\n",
    "sampler.run_mcmc(state, 2048)\n",
    "\n",
    "display_results(sampler, titles[0])\n",
    "plt.legend()"
   ]
  },
  {
   "cell_type": "code",
   "execution_count": null,
   "id": "b80dbd77",
   "metadata": {},
   "outputs": [],
   "source": []
  }
 ],
 "metadata": {
  "kernelspec": {
   "display_name": "Python 3 (ipykernel)",
   "language": "python",
   "name": "python3"
  },
  "language_info": {
   "codemirror_mode": {
    "name": "ipython",
    "version": 3
   },
   "file_extension": ".py",
   "mimetype": "text/x-python",
   "name": "python",
   "nbconvert_exporter": "python",
   "pygments_lexer": "ipython3",
   "version": "3.7.3"
  }
 },
 "nbformat": 4,
 "nbformat_minor": 5
}
